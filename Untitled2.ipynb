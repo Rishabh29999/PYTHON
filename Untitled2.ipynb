{
  "nbformat": 4,
  "nbformat_minor": 0,
  "metadata": {
    "colab": {
      "provenance": [],
      "authorship_tag": "ABX9TyOmcwda02B8Th02M6zhvlDZ",
      "include_colab_link": true
    },
    "kernelspec": {
      "name": "python3",
      "display_name": "Python 3"
    },
    "language_info": {
      "name": "python"
    }
  },
  "cells": [
    {
      "cell_type": "markdown",
      "metadata": {
        "id": "view-in-github",
        "colab_type": "text"
      },
      "source": [
        "<a href=\"https://colab.research.google.com/github/Rishabh29999/PYTHON/blob/main/Untitled2.ipynb\" target=\"_parent\"><img src=\"https://colab.research.google.com/assets/colab-badge.svg\" alt=\"Open In Colab\"/></a>"
      ]
    },
    {
      "cell_type": "code",
      "execution_count": null,
      "metadata": {
        "colab": {
          "base_uri": "https://localhost:8080/"
        },
        "id": "tZVpr42XSz_c",
        "outputId": "d595d3e4-ea75-4fb0-d4fe-69dce11fa542"
      },
      "outputs": [
        {
          "output_type": "stream",
          "name": "stdout",
          "text": [
            "banana\n",
            "pineapple\n",
            "guvava\n"
          ]
        }
      ],
      "source": [
        "#write a python program to print all elements in a list\n",
        "fruits=[\"banana\",\"pineapple\",\"guvava\"]\n",
        "for x in fruits:\n",
        "  print(x)"
      ]
    },
    {
      "cell_type": "code",
      "source": [
        "#write a program to print each char of a string\n",
        "for x in \"banana\":\n",
        "  print(x)"
      ],
      "metadata": {
        "colab": {
          "base_uri": "https://localhost:8080/"
        },
        "id": "YbnnkVGRUBHD",
        "outputId": "cc83a3b2-2399-4609-f516-63561570f9ee"
      },
      "execution_count": null,
      "outputs": [
        {
          "output_type": "stream",
          "name": "stdout",
          "text": [
            "b\n",
            "a\n",
            "n\n",
            "a\n",
            "n\n",
            "a\n"
          ]
        }
      ]
    },
    {
      "cell_type": "code",
      "source": [
        "#write a p program to count occurances of a specific letter in a string\n",
        "a=input(\"Enter a string: \")\n",
        "letter=input(\"Enter a letter a count: \")\n",
        "count=0\n",
        "for char in a:\n",
        "  if char==letter:\n",
        "    count=count+1\n",
        "    print(count)"
      ],
      "metadata": {
        "colab": {
          "base_uri": "https://localhost:8080/"
        },
        "id": "w9-eFMIrU_Fp",
        "outputId": "e5550175-2576-4a84-b0a8-d7c5d7ecdfb4"
      },
      "execution_count": null,
      "outputs": [
        {
          "output_type": "stream",
          "name": "stdout",
          "text": [
            "Enter a string: apple\n",
            "Enter a letter a count: p\n",
            "1\n",
            "2\n"
          ]
        }
      ]
    },
    {
      "cell_type": "code",
      "source": [
        "a=[1,2,3,4,5,6,7,8,9]\n",
        "sum=0\n",
        "for r in a:\n",
        "  sum=sum+r\n",
        "  print(sum)\n"
      ],
      "metadata": {
        "colab": {
          "base_uri": "https://localhost:8080/"
        },
        "id": "sELB0kw4XVg9",
        "outputId": "d2c980b3-c140-40f1-903f-34630bbe4421"
      },
      "execution_count": null,
      "outputs": [
        {
          "output_type": "stream",
          "name": "stdout",
          "text": [
            "1\n",
            "3\n",
            "6\n",
            "10\n",
            "15\n",
            "21\n",
            "28\n",
            "36\n",
            "45\n"
          ]
        }
      ]
    },
    {
      "cell_type": "code",
      "source": [
        "#write a program to reverse a program using for loop\n",
        "a=input(\"Enter a string:\")\n",
        "reversed_text=\"\"\n",
        "for char in a:\n",
        "   reversed_text=char\n",
        "   +reversed_text\n",
        "print(reversed_text)"
      ],
      "metadata": {
        "colab": {
          "base_uri": "https://localhost:8080/"
        },
        "id": "iiuD0oChX42M",
        "outputId": "de64c912-cf2c-4022-ced2-0bedfda97b4c"
      },
      "execution_count": null,
      "outputs": [
        {
          "output_type": "stream",
          "name": "stdout",
          "text": [
            "Enter a string:hello\n",
            "olleh\n"
          ]
        }
      ]
    },
    {
      "cell_type": "code",
      "source": [
        "#write a python program to convert upper to lower and lower to upper case\n",
        "text=input(\"for upper case\")\n",
        "upper_case=\"\"\n",
        "for char in text:\n",
        "  upper_case= upper_case + char.upper()\n",
        "print(upper_case)"
      ],
      "metadata": {
        "colab": {
          "base_uri": "https://localhost:8080/"
        },
        "id": "0o1rAj_6ZvZs",
        "outputId": "51e7c875-685e-4084-cbc2-41bdf575ab46"
      },
      "execution_count": null,
      "outputs": [
        {
          "output_type": "stream",
          "name": "stdout",
          "text": [
            "for upper casetell\n",
            "TELL\n"
          ]
        }
      ]
    },
    {
      "cell_type": "code",
      "source": [
        "#write a python program to remove vowels from a string\n",
        "text=input(\"Enter a string: \")\n",
        "result=\"\"\n",
        "for char in text:\n",
        "  if char.lower() not in 'aeiou':\n",
        "    result=result+char\n",
        "    print(\"string without vowel\",result)"
      ],
      "metadata": {
        "colab": {
          "base_uri": "https://localhost:8080/"
        },
        "id": "USe8bemZbQ6c",
        "outputId": "6fa0c494-bd23-49b3-b19d-a790fefaa4a4"
      },
      "execution_count": null,
      "outputs": [
        {
          "output_type": "stream",
          "name": "stdout",
          "text": [
            "Enter a string: apple\n",
            "string without vowel p\n",
            "string without vowel pp\n",
            "string without vowel ppl\n"
          ]
        }
      ]
    },
    {
      "cell_type": "code",
      "source": [
        "n=int(input(\"Enter number: \"))\n",
        "for i in range(1,n+1):\n",
        "  print(i)"
      ],
      "metadata": {
        "colab": {
          "base_uri": "https://localhost:8080/"
        },
        "id": "1oEuASOKcmKZ",
        "outputId": "f7b2cbc5-1364-42b8-a934-d5ae202b8b0e"
      },
      "execution_count": null,
      "outputs": [
        {
          "output_type": "stream",
          "name": "stdout",
          "text": [
            "Enter number: 7\n",
            "1\n",
            "2\n",
            "3\n",
            "4\n",
            "5\n",
            "6\n",
            "7\n"
          ]
        }
      ]
    },
    {
      "cell_type": "code",
      "source": [
        "num=int(input(\"Enter a number: \"))\n",
        "for i in range(1,11):\n",
        "  print(f\"{num}x{i} = {num * i}\")\n"
      ],
      "metadata": {
        "colab": {
          "base_uri": "https://localhost:8080/"
        },
        "id": "_BjaKBcDdLG3",
        "outputId": "dba84e3f-d043-4d82-ca69-7b1abfca8266"
      },
      "execution_count": null,
      "outputs": [
        {
          "output_type": "stream",
          "name": "stdout",
          "text": [
            "Enter a number: 11\n",
            "11x1 = 11\n",
            "11x2 = 22\n",
            "11x3 = 33\n",
            "11x4 = 44\n",
            "11x5 = 55\n",
            "11x6 = 66\n",
            "11x7 = 77\n",
            "11x8 = 88\n",
            "11x9 = 99\n",
            "11x10 = 110\n"
          ]
        }
      ]
    },
    {
      "cell_type": "code",
      "source": [
        "#print number in reverse order\n",
        "n=int(input(\"Enter a number:\"))\n",
        "total = 0\n",
        "for i in range(1,n+1):\n",
        "  total +=i\n",
        "  print(\"Sum:\",total)\n"
      ],
      "metadata": {
        "colab": {
          "base_uri": "https://localhost:8080/"
        },
        "id": "tazg3ptLeErH",
        "outputId": "14acfdbf-395c-4c35-83c4-a7a54dc89397"
      },
      "execution_count": null,
      "outputs": [
        {
          "output_type": "stream",
          "name": "stdout",
          "text": [
            "Enter a number:5\n",
            "Sum: 1\n",
            "Sum: 3\n",
            "Sum: 6\n",
            "Sum: 10\n",
            "Sum: 15\n"
          ]
        }
      ]
    },
    {
      "cell_type": "code",
      "source": [
        "#write a prog to square of n numbers"
      ],
      "metadata": {
        "id": "eE3kPFVHfBHf"
      },
      "execution_count": null,
      "outputs": []
    },
    {
      "cell_type": "code",
      "source": [
        "for x in range(6):\n",
        "  print(x)"
      ],
      "metadata": {
        "colab": {
          "base_uri": "https://localhost:8080/"
        },
        "id": "RQB5aot2fHXB",
        "outputId": "258cf87a-bfec-48a2-f1fb-29dbf8275098"
      },
      "execution_count": null,
      "outputs": [
        {
          "output_type": "stream",
          "name": "stdout",
          "text": [
            "0\n",
            "1\n",
            "2\n",
            "3\n",
            "4\n",
            "5\n"
          ]
        }
      ]
    },
    {
      "cell_type": "code",
      "source": [
        "for x in range(5,0,-1):\n",
        "  print(x)\n",
        "else:\n",
        "  print(\"finished\")\n"
      ],
      "metadata": {
        "colab": {
          "base_uri": "https://localhost:8080/"
        },
        "id": "C4mrek7Gfdl8",
        "outputId": "dcca469e-f7cc-4991-b1f9-3144dad49fcb"
      },
      "execution_count": null,
      "outputs": [
        {
          "output_type": "stream",
          "name": "stdout",
          "text": [
            "5\n",
            "4\n",
            "3\n",
            "2\n",
            "1\n",
            "finished\n"
          ]
        }
      ]
    },
    {
      "cell_type": "code",
      "source": [
        "#while loop\n",
        "i=1\n",
        "while i<=10:\n",
        "  print(i)\n",
        "  i=i+1\n",
        "\n"
      ],
      "metadata": {
        "colab": {
          "base_uri": "https://localhost:8080/"
        },
        "id": "0XVpmOJEgLMK",
        "outputId": "18b42477-071d-48c2-aba5-d3253c5f3cb2"
      },
      "execution_count": null,
      "outputs": [
        {
          "output_type": "stream",
          "name": "stdout",
          "text": [
            "1\n",
            "2\n",
            "3\n",
            "4\n",
            "5\n",
            "6\n",
            "7\n",
            "8\n",
            "9\n",
            "10\n"
          ]
        }
      ]
    },
    {
      "cell_type": "code",
      "source": [
        "#pattern\n",
        "n=int(input(\"Enter no. of rows\"))\n",
        "i=1\n",
        "while i<=n:\n",
        "  print(' '.join(str(x) for x in range(1,i+1)))\n",
        "  i += 1"
      ],
      "metadata": {
        "colab": {
          "base_uri": "https://localhost:8080/"
        },
        "id": "i-soJP59hC3F",
        "outputId": "cb439853-32a3-4133-f0fa-f67f4f3cbbc5"
      },
      "execution_count": null,
      "outputs": [
        {
          "output_type": "stream",
          "name": "stdout",
          "text": [
            "Enter no. of rows5\n",
            "1\n",
            "1 2\n",
            "1 2 3\n",
            "1 2 3 4\n",
            "1 2 3 4 5\n"
          ]
        }
      ]
    },
    {
      "cell_type": "code",
      "source": [],
      "metadata": {
        "id": "t-DeKV2yh3ym"
      },
      "execution_count": null,
      "outputs": []
    }
  ]
}